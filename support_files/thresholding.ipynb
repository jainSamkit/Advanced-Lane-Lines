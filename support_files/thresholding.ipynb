{
 "cells": [
  {
   "cell_type": "code",
   "execution_count": 7,
   "metadata": {
    "collapsed": true
   },
   "outputs": [],
   "source": [
    "import numpy as np\n",
    "import cv2\n",
    "import matplotlib.pyplot as plt\n",
    "import matplotlib.image as mpimg\n",
    "%matplotlib inline\n",
    "import glob\n",
    "%matplotlib qt"
   ]
  },
  {
   "cell_type": "code",
   "execution_count": 8,
   "metadata": {
    "collapsed": true
   },
   "outputs": [],
   "source": [
    "def abs_sobel_thresh(image,orient,  thresh=(20, 100)):\n",
    "    gray=cv2.cvtColor(image,cv2.COLOR_RGB2GRAY)\n",
    "    if orient=='x':\n",
    "        sobelx=cv2.Sobel(gray,cv2.CV_64F,1,0)\n",
    "        sobelx=np.absolute(sobelx)\n",
    "        scaled_sobel=np.uint8(255*sobelx/np.max(sobelx))\n",
    "        sx_binary=np.zeros_like(scaled_sobel)\n",
    "        sx_binary[(scaled_sobel>=thresh[0]) & (scaled_sobel<=thresh[1])]=1\n",
    "        binary_output=np.copy(sx_binary)\n",
    "    if orient=='y':\n",
    "        sobely=cv2.Sobel(gray,cv2.CV_64F,0,1)\n",
    "        sobely=np.absolute(sobely)\n",
    "        scaled_sobel=np.uint8(255*sobely/np.max(sobely))\n",
    "        sx_binary=np.zeros_like(scaled_sobel)\n",
    "        sx_binary[(scaled_sobel>=thresh[0]) & (scaled_sobel<=thresh[1])]=1\n",
    "        binary_output=np.copy(sx_binary)\n",
    "    return binary_output\n",
    "\n",
    "\n",
    "def mag_thresh(img, mag_thresh=(20,150)):\n",
    "    \n",
    "    # Apply the following steps to img\n",
    "    gray=cv2.cvtColor(img,cv2.COLOR_RGB2GRAY)\n",
    "    sobelx=cv2.Sobel(gray,cv2.CV_64F,1,0)\n",
    "    sobely=cv2.Sobel(gray,cv2.CV_64F,0,1)\n",
    "    sobel=np.sqrt(np.square(sobelx)+np.square(sobely))\n",
    "    scaled_sobel=np.uint8(255*sobel/np.max(sobel))\n",
    "    \n",
    "    t=sum((i > 150) &(i<200)  for i in scaled_sobel)\n",
    "#     print(np.sum(t))\n",
    "#     print(scaled_sobel.shape)\n",
    "    binary_sobel=np.zeros_like(scaled_sobel)\n",
    "    binary_sobel[(scaled_sobel>=mag_thresh[0]) & (scaled_sobel<=mag_thresh[1])]=1\n",
    "#     print(mag_thresh[0],mag_thresh[1])\n",
    "#     binary_sobel[(scaled_sobel>=20) & (scaled_sobel<=150)]=1\n",
    "#     plt.imshow(binary_sobel)\n",
    "#     plt.show()\n",
    "    return binary_sobel\n",
    "\n",
    "def dir_threshold(img,  thresh=(0.7,1.3)):\n",
    "    gray=cv2.cvtColor(img,cv2.COLOR_RGB2GRAY)\n",
    "    sobelx=np.absolute(cv2.Sobel(gray,cv2.CV_64F,1,0))\n",
    "    sobely=np.absolute(cv2.Sobel(gray,cv2.CV_64F,0,1))\n",
    "    dir_=np.arctan2(sobely,sobelx)\n",
    "    sx_binary = np.zeros_like(gray)\n",
    "#     print(thresh[0],thresh[1])\n",
    "    sx_binary[(dir_>=thresh[0]) &(dir_<=thresh[1])]=1\n",
    "    binary_output=sx_binary\n",
    "    return binary_output\n",
    "\n",
    "def color_space(image,thresh=(170,255)):\n",
    "    hls=cv2.cvtColor(image,cv2.COLOR_RGB2HLS)\n",
    "    gray_image=cv2.cvtColor(image,cv2.COLOR_RGB2GRAY)\n",
    "    l_channel=hls[:,:,1]\n",
    "    s_channel=hls[:,:,2]\n",
    "    s_binary=np.zeros_like(s_channel)\n",
    "    \n",
    "    _, gray_binary = cv2.threshold(gray_image.astype('uint8'), 150, 255, cv2.THRESH_BINARY)\n",
    "    s_binary[(s_channel>=thresh[0]) & (s_channel<=thresh[1])&(l_channel>=80)]=1\n",
    "    color_output=np.copy(s_binary)\n",
    "    return color_output\n",
    "\n",
    "def segregate_white_line(image,thresh=(200,255)):\n",
    "    hls=cv2.cvtColor(image,cv2.COLOR_RGB2HLS)\n",
    "    l_channel=hls[:,:,1]\n",
    "    l_binary=np.zeros_like(l_channel)\n",
    "    l_binary[((l_channel>=200)&(l_channel<=255))]=1\n",
    "    return l_binary"
   ]
  },
  {
   "cell_type": "code",
   "execution_count": 9,
   "metadata": {
    "collapsed": true
   },
   "outputs": [],
   "source": [
    "def gradient_color_thresh(image):\n",
    "    gradx = abs_sobel_thresh(image, orient='x', thresh=(20, 200))\n",
    "    grady = abs_sobel_thresh(image, orient='y', thresh=(20, 200))\n",
    "    # plt.imshow(gradx)\n",
    "    # plt.show()\n",
    "    # plt.imshow(grady)\n",
    "    # plt.show()\n",
    "    mag_binary = mag_thresh(image, mag_thresh=(20, 200))\n",
    "    # plt.imshow(mag_binary)\n",
    "    # plt.show()\n",
    "\n",
    "    dir_binary = dir_threshold(image, thresh=(0.7, 1.3))\n",
    "    color_binary=color_space(image,thresh=(100,255))\n",
    "    \n",
    "    combined = np.zeros_like(dir_binary)\n",
    "    # combined[((gradx == 1)& (grady == 1)) |(color_binary==1)] = 1\n",
    "    combined[(color_binary==1)|((gradx == 1)& (grady == 1)) |(mag_binary==1) &(dir_binary==1)] = 1\n",
    "#     plt.imshow(combined)\n",
    "#     plt.show()\n",
    "    kernel = np.ones((3,3),np.uint8)\n",
    "    morph_image=combined[600:,:950]\n",
    "    # morph_image = cv2.morphologyEx(morph_image, cv2.MORPH_CLOSE, kernel)\n",
    "    morph_image = cv2.morphologyEx(morph_image, cv2.MORPH_OPEN, kernel)\n",
    "    # morph_image=cv2.erode(morph_image,kernel,iterations = 1)\n",
    "    combined[600:,:950]=morph_image\n",
    "    white_line=segregate_white_line(image,thresh=(200,255))\n",
    "    combined=(combined)|(white_line)\n",
    "    return combined"
   ]
  },
  {
   "cell_type": "code",
   "execution_count": null,
   "metadata": {
    "collapsed": true
   },
   "outputs": [],
   "source": []
  }
 ],
 "metadata": {
  "kernelspec": {
   "display_name": "Python 3",
   "language": "python",
   "name": "python3"
  },
  "language_info": {
   "codemirror_mode": {
    "name": "ipython",
    "version": 3
   },
   "file_extension": ".py",
   "mimetype": "text/x-python",
   "name": "python",
   "nbconvert_exporter": "python",
   "pygments_lexer": "ipython3",
   "version": "3.5.4"
  }
 },
 "nbformat": 4,
 "nbformat_minor": 2
}
