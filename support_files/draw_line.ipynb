{
 "cells": [
  {
   "cell_type": "code",
   "execution_count": 2,
   "metadata": {
    "collapsed": true
   },
   "outputs": [],
   "source": [
    "import cv2\n",
    "import numpy as np"
   ]
  },
  {
   "cell_type": "code",
   "execution_count": 3,
   "metadata": {
    "collapsed": true
   },
   "outputs": [],
   "source": [
    "class line():\n",
    "    def __init__(self):\n",
    "        self.first_frame=False\n",
    "        self.curvature=0\n",
    "        \n",
    "        self.right_fit=[np.array([False])]\n",
    "        self.left_fit=[np.array([True])]\n",
    "        self.max_tolerance=0.01\n",
    "        \n",
    "        self.img=None\n",
    "        self.y_eval=700\n",
    "        self.mid_x=640\n",
    "        self.ym_per_pix=3.0/72.0\n",
    "        self.xm_per_pix=3.7/650.0 #HardCoded\n",
    "    \n",
    "    def update_fit(self,left_fit,right_fit):\n",
    "        if self.first_frame:\n",
    "            error_left=((self.left_fit[0]-left_fit[0])**2).mean(axis=None)\n",
    "            error_right=((self.right_fit[0]-right_fit[0])**2).mean(axis=None)\n",
    "            if error_left<self.max_tolerance:\n",
    "                self.left_fit=0.75*self.left_fit+0.25*left_fit\n",
    "            if error_right<self.max_tolerance:\n",
    "                self.right_fit=0.75*self.right_fit+0.25*right_fit\n",
    "        \n",
    "        else:\n",
    "            self.right_fit=right_fit\n",
    "            self.left_fit=left_fit\n",
    "        \n",
    "        self.update_curvature(self.right_fit)\n",
    "        \n",
    "    def update_curvature(self,fit):\n",
    "        \n",
    "        c1=(2*fit[0]*self.y_eval+fit[1])*self.xm_per_pix/self.ym_per_pix\n",
    "        c2=2*fit[0]*self.xm_per_pix/(self.ym_per_pix**2)\n",
    "        \n",
    "        curvature=((1+c1*c1)**1.5)/(np.absolute(c2))\n",
    "        \n",
    "        if self.first_frame:\n",
    "            self.curvature=curvature\n",
    "        \n",
    "        elif np.absolute(curvature-self.curvature)<500:\n",
    "            self.curvature=0.75*self.curvature + 0.25* curvature\n",
    "        \n",
    "    def vehicle_position(self):\n",
    "        left_pos=(self.left_fit[0]*(self.y_eval**2))+(self.left_fit[1]*self.y_eval)+self.left_fit[2]\n",
    "        right_pos=(self.right_fit[0]*(self.y_eval**2))+(self.right_fit[1]*self.y_eval)+se;f.right_fit[2]\n",
    "        \n",
    "        return ((left_pos+right_pos)/2.0 - self.mid_x)*self.xm_per_pix"
   ]
  },
  {
   "cell_type": "code",
   "execution_count": null,
   "metadata": {
    "collapsed": true
   },
   "outputs": [],
   "source": []
  }
 ],
 "metadata": {
  "kernelspec": {
   "display_name": "Python 3",
   "language": "python",
   "name": "python3"
  },
  "language_info": {
   "codemirror_mode": {
    "name": "ipython",
    "version": 3
   },
   "file_extension": ".py",
   "mimetype": "text/x-python",
   "name": "python",
   "nbconvert_exporter": "python",
   "pygments_lexer": "ipython3",
   "version": "3.5.4"
  }
 },
 "nbformat": 4,
 "nbformat_minor": 2
}
