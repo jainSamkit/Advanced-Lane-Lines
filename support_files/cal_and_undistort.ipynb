{
 "cells": [
  {
   "cell_type": "code",
   "execution_count": 1,
   "metadata": {
    "collapsed": true
   },
   "outputs": [],
   "source": [
    "import numpy as np\n",
    "import cv2\n",
    "import matplotlib.pyplot as plt\n",
    "import matplotlib.image as mpimg\n",
    "%matplotlib inline\n",
    "import glob\n",
    "%matplotlib qt"
   ]
  },
  {
   "cell_type": "code",
   "execution_count": 1,
   "metadata": {
    "collapsed": true
   },
   "outputs": [],
   "source": [
    "def calib(path):\n",
    "    images=glob.glob('./camera_cal/calibration*.jpg')\n",
    "    objpoints=[]\n",
    "    imgpoints=[]\n",
    "    \n",
    "    objp=np.zeros((9*6,3),np.float32)\n",
    "    objp[:,:2]=np.mgrid[0:9,0:6].T.reshape(-1,2)\n",
    "    for image in images:\n",
    "        img=mpimg.imread(image)\n",
    "        gray=cv2.cvtColor(img,cv2.COLOR_RGB2GRAY)\n",
    "        ret,corners=cv2.findChessboardCorners(gray,(9,6),None)\n",
    "    \n",
    "        if ret==True:\n",
    "            imgpoints.append(corners)\n",
    "            objpoints.append(objp)\n",
    "    \n",
    "    objp=np.zeros((6*5,3),np.float32)\n",
    "    objp[:,:2]=np.mgrid[0:6,0:5].T.reshape(-1,2)\n",
    "    \n",
    "    extra_images=['./camera_cal/calibration4.jpg']\n",
    "    \n",
    "    for image in extra_images:\n",
    "        img=mpimg.imread(image)\n",
    "        gray=cv2.cvtColor(img,cv2.COLOR_RGB2GRAY)\n",
    "        ret,corners=cv2.findChessboardCorners(gray,(6,5),None)\n",
    "        if ret==True:\n",
    "            imgpoints.append(corners)\n",
    "            objpoints.append(objp)\n",
    "            \n",
    "            \n",
    "    objp=np.zeros((9*5,3),np.float32)\n",
    "    objp[:,:2]=np.mgrid[0:9,0:5].T.reshape(-1,2)\n",
    "\n",
    "    extra_images=['./camera_cal/calibration1.jpg']\n",
    "    for image in extra_images:\n",
    "        img=mpimg.imread(image)\n",
    "        gray=cv2.cvtColor(img,cv2.COLOR_RGB2GRAY)\n",
    "        ret,corners=cv2.findChessboardCorners(gray,(9,5),None)\n",
    "    \n",
    "        if ret==True:\n",
    "            imgpoints.append(corners)\n",
    "            objpoints.append(objp)\n",
    "            \n",
    "    objp=np.zeros((7*5,3),np.float32)\n",
    "    objp[:,:2]=np.mgrid[0:7,0:5].T.reshape(-1,2)\n",
    "\n",
    "    extra_images=['./camera_cal/calibration5.jpg']\n",
    "    for image in extra_images:\n",
    "        img=mpimg.imread(image)\n",
    "        gray=cv2.cvtColor(img,cv2.COLOR_RGB2GRAY)\n",
    "        ret,corners=cv2.findChessboardCorners(gray,(7,5),None)\n",
    "    \n",
    "        if ret==True:\n",
    "            imgpoints.append(corners)\n",
    "            objpoints.append(objp)\n",
    "            \n",
    "    ref_image=images[0]\n",
    "    ref_image=mpimg.imread(ref_image)\n",
    "    gray=cv2.cvtColor(ref_image,cv2.COLOR_RGB2GRAY)\n",
    "    \n",
    "    return cv2.calibrateCamera(objpoints, imgpoints, gray.T.shape, None, None)"
   ]
  },
  {
   "cell_type": "code",
   "execution_count": 2,
   "metadata": {
    "collapsed": true
   },
   "outputs": [],
   "source": [
    "def undistort(img,mtx,dst):\n",
    "    return cv2.undistort(img, mtx, dist, None, mtx)"
   ]
  },
  {
   "cell_type": "code",
   "execution_count": null,
   "metadata": {
    "collapsed": true
   },
   "outputs": [],
   "source": []
  }
 ],
 "metadata": {
  "kernelspec": {
   "display_name": "Python 3",
   "language": "python",
   "name": "python3"
  },
  "language_info": {
   "codemirror_mode": {
    "name": "ipython",
    "version": 3
   },
   "file_extension": ".py",
   "mimetype": "text/x-python",
   "name": "python",
   "nbconvert_exporter": "python",
   "pygments_lexer": "ipython3",
   "version": "3.5.4"
  }
 },
 "nbformat": 4,
 "nbformat_minor": 2
}
